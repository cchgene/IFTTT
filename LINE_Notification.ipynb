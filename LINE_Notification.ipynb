{
 "cells": [
  {
   "cell_type": "code",
   "execution_count": 1,
   "metadata": {},
   "outputs": [],
   "source": [
    "import requests as r"
   ]
  },
  {
   "cell_type": "code",
   "execution_count": 2,
   "metadata": {},
   "outputs": [],
   "source": [
    "data = \"\"\"\n",
    "今天不跟風，講「撩妹金句」\n",
    "\n",
    "是個人(?)就直接彈。直。球 對決吧！\n",
    "\n",
    "777點、77點、17點 #HAPPYGO點數\n",
    "\n",
    "通通彈進你的心坎裡😘 #得點機會100%\n",
    "\n",
    "7/31前每天都回來彈一下\n",
    "\n",
    "一起做個快樂7淘人吧\n",
    "\n",
    "hen會撩卡友的❤https://bit.ly/2LrP9eS\n",
    "\"\"\""
   ]
  },
  {
   "cell_type": "code",
   "execution_count": 3,
   "metadata": {},
   "outputs": [
    {
     "data": {
      "text/plain": [
       "<Response [200]>"
      ]
     },
     "execution_count": 3,
     "metadata": {},
     "output_type": "execute_result"
    }
   ],
   "source": [
    "#中文請填入IFTTT上的碼(name and key)\n",
    "r.post('https://maker.ifttt.com/trigger/EVENT的名子/with/key/金鑰', data = {'value1':data})"
   ]
  },
  {
   "cell_type": "code",
   "execution_count": null,
   "metadata": {},
   "outputs": [],
   "source": []
  }
 ],
 "metadata": {
  "kernelspec": {
   "display_name": "Python 3",
   "language": "python",
   "name": "python3"
  },
  "language_info": {
   "codemirror_mode": {
    "name": "ipython",
    "version": 3
   },
   "file_extension": ".py",
   "mimetype": "text/x-python",
   "name": "python",
   "nbconvert_exporter": "python",
   "pygments_lexer": "ipython3",
   "version": "3.6.4"
  }
 },
 "nbformat": 4,
 "nbformat_minor": 2
}
